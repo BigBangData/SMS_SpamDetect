{
 "cells": [
  {
   "cell_type": "code",
   "execution_count": 1,
   "metadata": {},
   "outputs": [],
   "source": [
    "import os\n",
    "import joblib \n",
    "import pandas as pd\n",
    "import numpy as np\n",
    "import custom.deploy_models as dp"
   ]
  },
  {
   "cell_type": "code",
   "execution_count": 2,
   "metadata": {},
   "outputs": [],
   "source": [
    "XGboost_mod1_PATH = os.path.join(\"data\", \n",
    "                                 \"5_deployment\", \n",
    "                                  \"XGboost_mod1.joblib\")\n",
    "    \n",
    "with open(XGboost_mod1_PATH, 'rb') as f:\n",
    "    XGboost_mod1 = joblib.load(f)\n",
    "    \n",
    "txt = np.array([\"I'm stocked. I'm alive. I am...\"])"
   ]
  },
  {
   "cell_type": "code",
   "execution_count": 11,
   "metadata": {},
   "outputs": [],
   "source": [
    "try:\n",
    "    (\n",
    "    counter\n",
    "    , vocabulary\n",
    "    , bot\n",
    "    , ziparray\n",
    "    , X_test_svd\n",
    "    , test_mean_spam_sims\n",
    "    , X_test_processed\n",
    "    ) = dp.transform_newdata(txt)\n",
    "    \n",
    "    y_pred = XGboost_mod1.predict(X_test_processed)\n",
    "except Exception as e:\n",
    "    raise e"
   ]
  },
  {
   "cell_type": "code",
   "execution_count": 12,
   "metadata": {},
   "outputs": [
    {
     "data": {
      "text/plain": [
       "0"
      ]
     },
     "execution_count": 12,
     "metadata": {},
     "output_type": "execute_result"
    }
   ],
   "source": [
    "prediction = y_pred[0]\n",
    "prediction"
   ]
  },
  {
   "cell_type": "code",
   "execution_count": 13,
   "metadata": {},
   "outputs": [
    {
     "name": "stdout",
     "output_type": "stream",
     "text": [
      "{'i': 3, 'am': 3, 'stocked': 1, 'alive': 1, 'i_am': 3, 'am_stocked': 1, 'stocked_i': 1, 'am_alive': 1, 'alive_i': 1, 'i_am_stocked': 1, 'am_stocked_i': 1, 'stocked_i_am': 1, 'i_am_alive': 1, 'am_alive_i': 1, 'alive_i_am': 1}\n"
     ]
    }
   ],
   "source": [
    "print(counter)"
   ]
  },
  {
   "cell_type": "code",
   "execution_count": 14,
   "metadata": {},
   "outputs": [
    {
     "name": "stdout",
     "output_type": "stream",
     "text": [
      "['NUM', 'i', 'you', 'u', 'me', 'my', 'not', 'have', 'your', 'call', 'am', 'EMOJI', 'do', 'i_am', 'now', 'NUM_NUM', 'so', 'but', 'or', 'we', 'can', 'get', 'if', 'ur', 'no', 'just', 'this', 'EMOJI_NUM', 'go', 'up', 'how', 'when', 'ok', 'what', 'free', 'i_will', 'day', 'out', 'all', 'know', 'come', 'like']\n"
     ]
    }
   ],
   "source": [
    "print(vocabulary)"
   ]
  },
  {
   "cell_type": "code",
   "execution_count": 15,
   "metadata": {},
   "outputs": [
    {
     "name": "stdout",
     "output_type": "stream",
     "text": [
      "[0 3 0 0 0 0 0 0 0 0 3 0 0 3 0 0 0 0 0 0 0 0 0 0 0 0 0 0 0 0 0 0 0 0 0 0 0\n",
      " 0 0 0 0 0]\n"
     ]
    }
   ],
   "source": [
    "print(bot)"
   ]
  },
  {
   "cell_type": "code",
   "execution_count": 16,
   "metadata": {},
   "outputs": [
    {
     "data": {
      "text/plain": [
       "<zip at 0x2dc60c2c240>"
      ]
     },
     "execution_count": 16,
     "metadata": {},
     "output_type": "execute_result"
    }
   ],
   "source": [
    "ziparray"
   ]
  },
  {
   "cell_type": "code",
   "execution_count": 18,
   "metadata": {},
   "outputs": [
    {
     "data": {
      "text/plain": [
       "(1, 800)"
      ]
     },
     "execution_count": 18,
     "metadata": {},
     "output_type": "execute_result"
    }
   ],
   "source": [
    "X_test_svd.shape"
   ]
  },
  {
   "cell_type": "code",
   "execution_count": 22,
   "metadata": {},
   "outputs": [
    {
     "data": {
      "text/plain": [
       "array([ 0.02036149, -0.03459074,  0.08198418,  0.01807301, -0.06391494,\n",
       "        0.01263903, -0.03529285, -0.01488637,  0.02711607,  0.01858909,\n",
       "        0.00612613, -0.00766381, -0.00513247,  0.00205407,  0.00283004,\n",
       "       -0.00444106, -0.01429717, -0.00161346,  0.016045  ,  0.00350506,\n",
       "       -0.00453472,  0.00700419,  0.01782003,  0.01174714, -0.01254158,\n",
       "       -0.00165674,  0.01177585,  0.00187486,  0.00372979, -0.00260602,\n",
       "       -0.00927313, -0.00438079, -0.001705  , -0.00134939,  0.0044355 ,\n",
       "        0.0046868 ,  0.0007909 , -0.00972618, -0.00084913, -0.00067728,\n",
       "        0.00857803,  0.00082492])"
      ]
     },
     "execution_count": 22,
     "metadata": {},
     "output_type": "execute_result"
    }
   ],
   "source": [
    "X_test_svd[0][:42]"
   ]
  },
  {
   "cell_type": "code",
   "execution_count": 23,
   "metadata": {},
   "outputs": [
    {
     "data": {
      "text/plain": [
       "[-0.0007517566383908396]"
      ]
     },
     "execution_count": 23,
     "metadata": {},
     "output_type": "execute_result"
    }
   ],
   "source": [
    "test_mean_spam_sims"
   ]
  },
  {
   "cell_type": "code",
   "execution_count": 26,
   "metadata": {},
   "outputs": [
    {
     "data": {
      "text/plain": [
       "(1, 801)"
      ]
     },
     "execution_count": 26,
     "metadata": {},
     "output_type": "execute_result"
    }
   ],
   "source": [
    "X_test_processed.shape"
   ]
  },
  {
   "cell_type": "code",
   "execution_count": null,
   "metadata": {},
   "outputs": [],
   "source": []
  },
  {
   "cell_type": "code",
   "execution_count": null,
   "metadata": {},
   "outputs": [],
   "source": []
  }
 ],
 "metadata": {
  "kernelspec": {
   "display_name": "Python 3",
   "language": "python",
   "name": "python3"
  },
  "language_info": {
   "codemirror_mode": {
    "name": "ipython",
    "version": 3
   },
   "file_extension": ".py",
   "mimetype": "text/x-python",
   "name": "python",
   "nbconvert_exporter": "python",
   "pygments_lexer": "ipython3",
   "version": "3.9.1"
  }
 },
 "nbformat": 4,
 "nbformat_minor": 4
}
