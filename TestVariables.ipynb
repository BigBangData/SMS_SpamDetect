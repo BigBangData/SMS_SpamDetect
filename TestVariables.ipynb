{
 "cells": [
  {
   "cell_type": "code",
   "execution_count": 1,
   "metadata": {},
   "outputs": [],
   "source": [
    "import os\n",
    "import joblib \n",
    "import pandas as pd\n",
    "import numpy as np\n",
    "import custom.deploy_models as dp"
   ]
  },
  {
   "cell_type": "code",
   "execution_count": 2,
   "metadata": {},
   "outputs": [],
   "source": [
    "XGboost_mod1_PATH = os.path.join(\"data\", \n",
    "                                 \"5_deployment\", \n",
    "                                  \"XGboost_mod1.joblib\")\n",
    "    \n",
    "with open(XGboost_mod1_PATH, 'rb') as f:\n",
    "    XGboost_mod1 = joblib.load(f)\n",
    "    \n",
    "txt = np.array([\"I'm stocked. I'm alive. I am...\"])"
   ]
  },
  {
   "cell_type": "code",
   "execution_count": 3,
   "metadata": {},
   "outputs": [],
   "source": [
    "try:\n",
    "    (\n",
    "    X_test_counter\n",
    "    , X_test_bot\n",
    "    , X_train_transformer_vocab\n",
    "    , X_test_tfidf\n",
    "    , X_test_svd\n",
    "    , test_mean_spam_sims\n",
    "    , X_test_processed\n",
    "    ) = dp.transform_newdata(txt)\n",
    "    \n",
    "    y_pred = XGboost_mod1.predict(X_test_processed)\n",
    "except Exception as e:\n",
    "    raise e"
   ]
  },
  {
   "cell_type": "code",
   "execution_count": 19,
   "metadata": {},
   "outputs": [],
   "source": [
    "prediction = y_pred[0]\n",
    "counter = dict(X_test_counter[0])\n",
    "bot = X_test_bot.toarray()\n",
    "tfidf = X_test_tfidf.todense()\n",
    "svd = X_test_svd\n",
    "X = X_test_processed.todense()"
   ]
  },
  {
   "cell_type": "code",
   "execution_count": 20,
   "metadata": {},
   "outputs": [
    {
     "data": {
      "text/plain": [
       "{'i': 3,\n",
       " 'am': 3,\n",
       " 'stocked': 1,\n",
       " 'alive': 1,\n",
       " 'i_am': 3,\n",
       " 'am_stocked': 1,\n",
       " 'stocked_i': 1,\n",
       " 'am_alive': 1,\n",
       " 'alive_i': 1,\n",
       " 'i_am_stocked': 1,\n",
       " 'am_stocked_i': 1,\n",
       " 'stocked_i_am': 1,\n",
       " 'i_am_alive': 1,\n",
       " 'am_alive_i': 1,\n",
       " 'alive_i_am': 1}"
      ]
     },
     "execution_count": 20,
     "metadata": {},
     "output_type": "execute_result"
    }
   ],
   "source": [
    "counter"
   ]
  },
  {
   "cell_type": "code",
   "execution_count": 21,
   "metadata": {},
   "outputs": [],
   "source": [
    "vocabulary = list(X_train_transformer_vocab)[:20]"
   ]
  },
  {
   "cell_type": "code",
   "execution_count": 28,
   "metadata": {},
   "outputs": [
    {
     "data": {
      "text/plain": [
       "array([[12,  0,  3, ...,  0,  0,  0]], dtype=int32)"
      ]
     },
     "execution_count": 28,
     "metadata": {},
     "output_type": "execute_result"
    }
   ],
   "source": [
    "bot"
   ]
  },
  {
   "cell_type": "code",
   "execution_count": 33,
   "metadata": {},
   "outputs": [
    {
     "data": {
      "text/html": [
       "<div>\n",
       "<style scoped>\n",
       "    .dataframe tbody tr th:only-of-type {\n",
       "        vertical-align: middle;\n",
       "    }\n",
       "\n",
       "    .dataframe tbody tr th {\n",
       "        vertical-align: top;\n",
       "    }\n",
       "\n",
       "    .dataframe thead th {\n",
       "        text-align: right;\n",
       "    }\n",
       "</style>\n",
       "<table border=\"1\" class=\"dataframe\">\n",
       "  <thead>\n",
       "    <tr style=\"text-align: right;\">\n",
       "      <th>train vocab &gt;&gt;&gt;</th>\n",
       "      <th>NUM</th>\n",
       "      <th>i</th>\n",
       "      <th>you</th>\n",
       "      <th>u</th>\n",
       "      <th>me</th>\n",
       "      <th>my</th>\n",
       "      <th>not</th>\n",
       "      <th>have</th>\n",
       "      <th>your</th>\n",
       "      <th>call</th>\n",
       "      <th>am</th>\n",
       "      <th>EMOJI</th>\n",
       "      <th>do</th>\n",
       "      <th>i_am</th>\n",
       "      <th>now</th>\n",
       "      <th>NUM_NUM</th>\n",
       "      <th>so</th>\n",
       "      <th>but</th>\n",
       "      <th>or</th>\n",
       "      <th>we</th>\n",
       "    </tr>\n",
       "  </thead>\n",
       "  <tbody>\n",
       "    <tr>\n",
       "      <th>new tokens</th>\n",
       "      <td>0</td>\n",
       "      <td>3</td>\n",
       "      <td>0</td>\n",
       "      <td>0</td>\n",
       "      <td>0</td>\n",
       "      <td>0</td>\n",
       "      <td>0</td>\n",
       "      <td>0</td>\n",
       "      <td>0</td>\n",
       "      <td>0</td>\n",
       "      <td>3</td>\n",
       "      <td>0</td>\n",
       "      <td>0</td>\n",
       "      <td>3</td>\n",
       "      <td>0</td>\n",
       "      <td>0</td>\n",
       "      <td>0</td>\n",
       "      <td>0</td>\n",
       "      <td>0</td>\n",
       "      <td>0</td>\n",
       "    </tr>\n",
       "  </tbody>\n",
       "</table>\n",
       "</div>"
      ],
      "text/plain": [
       "train vocab >>>  NUM  i  you  u  me  my  not  have  your  call  am  EMOJI  do  \\\n",
       "new tokens         0  3    0  0   0   0    0     0     0     0   3      0   0   \n",
       "\n",
       "train vocab >>>  i_am  now  NUM_NUM  so  but  or  we  \n",
       "new tokens          3    0        0   0    0   0   0  "
      ]
     },
     "execution_count": 33,
     "metadata": {},
     "output_type": "execute_result"
    }
   ],
   "source": [
    "df = pd.DataFrame()\n",
    "df['train vocab >>>'] = vocabulary\n",
    "df['new tokens'] = bot[:,1:21][0]\n",
    "df.set_index('train vocab >>>', inplace=True)\n",
    "df.T"
   ]
  },
  {
   "cell_type": "code",
   "execution_count": null,
   "metadata": {},
   "outputs": [],
   "source": []
  },
  {
   "cell_type": "code",
   "execution_count": null,
   "metadata": {},
   "outputs": [],
   "source": []
  },
  {
   "cell_type": "code",
   "execution_count": 37,
   "metadata": {},
   "outputs": [
    {
     "data": {
      "text/plain": [
       "matrix([[0.31310347, 0.        , 0.36829362, ..., 0.        , 0.        ,\n",
       "         0.        ]])"
      ]
     },
     "execution_count": 37,
     "metadata": {},
     "output_type": "execute_result"
    }
   ],
   "source": [
    "tfidf"
   ]
  },
  {
   "cell_type": "code",
   "execution_count": 40,
   "metadata": {},
   "outputs": [
    {
     "data": {
      "text/plain": [
       "array([ 0.02036149, -0.03459074,  0.08198418,  0.01807301, -0.06391494,\n",
       "        0.01263903, -0.03529285, -0.01488637,  0.02711607,  0.01858909])"
      ]
     },
     "execution_count": 40,
     "metadata": {},
     "output_type": "execute_result"
    }
   ],
   "source": [
    "svd[0][:10]"
   ]
  },
  {
   "cell_type": "code",
   "execution_count": null,
   "metadata": {},
   "outputs": [],
   "source": []
  },
  {
   "cell_type": "code",
   "execution_count": null,
   "metadata": {},
   "outputs": [],
   "source": []
  }
 ],
 "metadata": {
  "kernelspec": {
   "display_name": "Python 3",
   "language": "python",
   "name": "python3"
  },
  "language_info": {
   "codemirror_mode": {
    "name": "ipython",
    "version": 3
   },
   "file_extension": ".py",
   "mimetype": "text/x-python",
   "name": "python",
   "nbconvert_exporter": "python",
   "pygments_lexer": "ipython3",
   "version": "3.9.1"
  }
 },
 "nbformat": 4,
 "nbformat_minor": 4
}
