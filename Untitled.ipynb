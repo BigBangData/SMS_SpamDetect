{
 "cells": [
  {
   "cell_type": "code",
   "execution_count": 1,
   "metadata": {},
   "outputs": [],
   "source": [
    "import os\n",
    "import joblib \n",
    "import numpy as np\n",
    "\n",
    "import custom.deploy_models as dp"
   ]
  },
  {
   "cell_type": "code",
   "execution_count": 16,
   "metadata": {},
   "outputs": [],
   "source": [
    "XGboost_mod1_PATH = os.path.join(\"data\", \n",
    "                                 \"5_deployment\", \n",
    "                                  \"XGboost_mod1.joblib\")\n",
    "    \n",
    "with open(XGboost_mod1_PATH, 'rb') as f:\n",
    "    XGboost_mod1 = joblib.load(f)\n",
    "\n",
    "    \n",
    "txt = np.array([\"I'm stocked. I'm alive. I am...\"])"
   ]
  },
  {
   "cell_type": "code",
   "execution_count": 17,
   "metadata": {},
   "outputs": [],
   "source": [
    "try:\n",
    "    (\n",
    "    X_test_counter\n",
    "    , X_test_bot\n",
    "    , X_test_tfidf\n",
    "    , X_test_svd\n",
    "    , test_mean_spam_sims\n",
    "    , X_test_processed\n",
    "    ) = dp.transform_newdata(txt)\n",
    "    \n",
    "    y_pred = XGboost_mod1.predict(X_test_processed)\n",
    "except Exception as e:\n",
    "    raise e"
   ]
  },
  {
   "cell_type": "code",
   "execution_count": 34,
   "metadata": {},
   "outputs": [],
   "source": [
    "prediction = y_pred[0]\n",
    "counter = dict(X_test_counter[0])\n",
    "bot = X_test_bot.todense()\n",
    "tfidf = X_test_tfidf.todense()\n",
    "svd = X_test_svd\n",
    "X = X_test_processed.todense()"
   ]
  },
  {
   "cell_type": "code",
   "execution_count": 35,
   "metadata": {},
   "outputs": [
    {
     "data": {
      "text/plain": [
       "{'i': 3,\n",
       " 'am': 3,\n",
       " 'stocked': 1,\n",
       " 'alive': 1,\n",
       " 'i_am': 3,\n",
       " 'am_stocked': 1,\n",
       " 'stocked_i': 1,\n",
       " 'am_alive': 1,\n",
       " 'alive_i': 1,\n",
       " 'i_am_stocked': 1,\n",
       " 'am_stocked_i': 1,\n",
       " 'stocked_i_am': 1,\n",
       " 'i_am_alive': 1,\n",
       " 'am_alive_i': 1,\n",
       " 'alive_i_am': 1}"
      ]
     },
     "execution_count": 35,
     "metadata": {},
     "output_type": "execute_result"
    }
   ],
   "source": [
    "counter"
   ]
  },
  {
   "cell_type": "code",
   "execution_count": 36,
   "metadata": {},
   "outputs": [
    {
     "data": {
      "text/plain": [
       "matrix([[12,  0,  3, ...,  0,  0,  0]], dtype=int32)"
      ]
     },
     "execution_count": 36,
     "metadata": {},
     "output_type": "execute_result"
    }
   ],
   "source": [
    "bot"
   ]
  },
  {
   "cell_type": "code",
   "execution_count": 37,
   "metadata": {},
   "outputs": [
    {
     "data": {
      "text/plain": [
       "matrix([[0.31310347, 0.        , 0.36829362, ..., 0.        , 0.        ,\n",
       "         0.        ]])"
      ]
     },
     "execution_count": 37,
     "metadata": {},
     "output_type": "execute_result"
    }
   ],
   "source": [
    "tfidf"
   ]
  },
  {
   "cell_type": "code",
   "execution_count": 40,
   "metadata": {},
   "outputs": [
    {
     "data": {
      "text/plain": [
       "array([ 0.02036149, -0.03459074,  0.08198418,  0.01807301, -0.06391494,\n",
       "        0.01263903, -0.03529285, -0.01488637,  0.02711607,  0.01858909])"
      ]
     },
     "execution_count": 40,
     "metadata": {},
     "output_type": "execute_result"
    }
   ],
   "source": [
    "svd[0][:10]"
   ]
  },
  {
   "cell_type": "code",
   "execution_count": null,
   "metadata": {},
   "outputs": [],
   "source": []
  },
  {
   "cell_type": "code",
   "execution_count": null,
   "metadata": {},
   "outputs": [],
   "source": []
  }
 ],
 "metadata": {
  "kernelspec": {
   "display_name": "Python 3",
   "language": "python",
   "name": "python3"
  },
  "language_info": {
   "codemirror_mode": {
    "name": "ipython",
    "version": 3
   },
   "file_extension": ".py",
   "mimetype": "text/x-python",
   "name": "python",
   "nbconvert_exporter": "python",
   "pygments_lexer": "ipython3",
   "version": "3.9.1"
  }
 },
 "nbformat": 4,
 "nbformat_minor": 4
}
